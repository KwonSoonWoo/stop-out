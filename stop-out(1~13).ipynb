{
 "cells": [
  {
   "cell_type": "markdown",
   "metadata": {},
   "source": [
    "### 1. 다음 리스트를 사용해 아래와 같은 문자열을 만들어 `girlsday_info`변수에 할당한 후, 콘솔에 내용을 출력하시오. [5점]\n",
    "\n",
    "리스트\n",
    "\n",
    "```python\n",
    "girlsday_members = ['민아', '혜리', '유라', '소진']\n",
    "```\n",
    "\n",
    "결과 문자열\n",
    "\n",
    "```\n",
    "- 민아\n",
    "- 혜리\n",
    "- 유라\n",
    "- 소진\n",
    "```\n"
   ]
  },
  {
   "cell_type": "code",
   "execution_count": 6,
   "metadata": {},
   "outputs": [
    {
     "name": "stdout",
     "output_type": "stream",
     "text": [
      "민아\n",
      "혜리\n",
      "유라\n",
      "소진\n"
     ]
    }
   ],
   "source": [
    "# 나의 답\n",
    "girlsday_members = ['민아', '혜리', '유라', '소진']\n",
    "\n",
    "girlsday_info = '\\n'.join(girlsday_members)\n",
    "print(girlsday_info)"
   ]
  },
  {
   "cell_type": "code",
   "execution_count": 105,
   "metadata": {},
   "outputs": [
    {
     "name": "stdout",
     "output_type": "stream",
     "text": [
      "- 민아\n",
      "- 혜리\n",
      "- 유라\n",
      "- 소진\n",
      "\n"
     ]
    }
   ],
   "source": [
    "# 정답\n",
    "\n",
    "girlsday_members = ['민아', '혜리', '유라', '소진']\n",
    "\n",
    "girlsday_info = ''.join(f'- {i}\\n' for i in girlsday_members)\n",
    "print(girlsday_info)"
   ]
  },
  {
   "cell_type": "markdown",
   "metadata": {},
   "source": [
    "### 2. `fruit_dict`객체를 사용해서 아래와 같은 결과값을 갖는 문자열을 만들어 `fruit_info`변수에 할당 한 후, 콘솔에 내용을 출력하시오. [10점]\n",
    "\n",
    "- index 미출력시: -2\n",
    "- 키의 대문자화 미구현시: -2\n",
    "- 값의 첫 번째 글자 대문자화 미구현시: -2\n",
    "\n",
    "\n",
    "```\n",
    "fruit_dict = {\n",
    "    'red': 'apple',\n",
    "    'yellow': 'banana',\n",
    "    'green': 'melon',\n",
    "}\n",
    "```\n",
    "\n",
    "결과 문자열\n",
    "\n",
    "```\n",
    "[0] RED: Apple\n",
    "[1] YELLOW: Banana\n",
    "[2] GREEN: Melon\n",
    "\n",
    "# 어렵다면 아래 형태를 만든다\n",
    "\n",
    "red: apple\n",
    "yellow: banana\n",
    "green: melon\n",
    "```\n"
   ]
  },
  {
   "cell_type": "code",
   "execution_count": 7,
   "metadata": {},
   "outputs": [
    {
     "name": "stdout",
     "output_type": "stream",
     "text": [
      "[0]\n",
      "[1]\n",
      "[2]\n"
     ]
    },
    {
     "ename": "KeyError",
     "evalue": "0",
     "output_type": "error",
     "traceback": [
      "\u001b[0;31m---------------------------------------------------------------------------\u001b[0m",
      "\u001b[0;31mKeyError\u001b[0m                                  Traceback (most recent call last)",
      "\u001b[0;32m<ipython-input-7-1752b9db323a>\u001b[0m in \u001b[0;36m<module>\u001b[0;34m()\u001b[0m\n\u001b[1;32m      8\u001b[0m     \u001b[0mprint\u001b[0m\u001b[0;34m(\u001b[0m\u001b[0;34m[\u001b[0m\u001b[0mindex\u001b[0m\u001b[0;34m]\u001b[0m\u001b[0;34m)\u001b[0m\u001b[0;34m\u001b[0m\u001b[0m\n\u001b[1;32m      9\u001b[0m \u001b[0;34m\u001b[0m\u001b[0m\n\u001b[0;32m---> 10\u001b[0;31m \u001b[0mfruit_dict\u001b[0m\u001b[0;34m[\u001b[0m\u001b[0;36m0\u001b[0m\u001b[0;34m]\u001b[0m\u001b[0;34m\u001b[0m\u001b[0m\n\u001b[0m",
      "\u001b[0;31mKeyError\u001b[0m: 0"
     ]
    }
   ],
   "source": [
    "# 나의 답\n",
    "fruit_dict = {\n",
    "    'red': 'apple',\n",
    "    'yellow': 'banana',\n",
    "    'green': 'melon',\n",
    "}\n",
    "\n",
    "for index, item in enumerate(fruit_dict):\n",
    "    print([index])\n",
    "    \n",
    "fruit_dict[0]"
   ]
  },
  {
   "cell_type": "code",
   "execution_count": 127,
   "metadata": {},
   "outputs": [
    {
     "name": "stdout",
     "output_type": "stream",
     "text": [
      "[0] RED: Apple\n",
      "[1] YELLOW: Banana\n",
      "[2] GREEN: Melon\n",
      "\n"
     ]
    }
   ],
   "source": [
    "# 정답\n",
    "\n",
    "fruit_dict = {\n",
    "    'red': 'apple',\n",
    "    'yellow': 'banana',\n",
    "    'green': 'melon',\n",
    "}\n",
    "\n",
    "fruit_info = ''\n",
    "for index, (color,fruit) in enumerate(fruit_dict.items()):\n",
    "    fruit_info += f'[{index}] {color.upper()}: {fruit.capitalize()}\\n'\n",
    "    \n",
    "print(fruit_info)"
   ]
  },
  {
   "cell_type": "markdown",
   "metadata": {},
   "source": [
    "### 3. list의 `copy()`메서드가 하는 일과, `copy()`를 사용하지 않았을 때 발생할 수 있는 오류에 대한 예제 코드를 작성하시오. [10점]\n",
    "\n",
    "\n",
    "- copy() 메서드는 원래 문자열과 같은 값을 가지긴 하지만 다른 개체 참조를 나타냅니다.\n",
    "\n",
    "- copy()를 사용하지 않았을때 발생할수 있는 오류\n",
    "a = ['a','b','c']\n",
    "b = a.copy() 인 경우\n",
    "\n",
    ">>> b is a\n",
    "False\n",
    "\n",
    "a = ['a','b','c']\n",
    "b = a 인 경우\n",
    "\n",
    "\n",
    ">>> b is a\n",
    "True\n"
   ]
  },
  {
   "cell_type": "markdown",
   "metadata": {},
   "source": [
    "### 4. 1에서 30까지의 숫자 중, 3부터 시작해서 4번째마다의 숫자를 가지는 리스트를 생성하시오. [5점]\n",
    "\n",
    "\n",
    "- 기본점수: 3점\n",
    "- `range`를 사용한 경우: +2\n",
    "\n",
    "결과\n",
    "\n",
    "```\n",
    "[3, 7, 11, 15, 19, 23, 27]\n",
    "```"
   ]
  },
  {
   "cell_type": "code",
   "execution_count": 88,
   "metadata": {},
   "outputs": [
    {
     "name": "stdout",
     "output_type": "stream",
     "text": [
      "[3, 7, 11, 15, 19, 23, 27]\n"
     ]
    }
   ],
   "source": [
    "result = []\n",
    "\n",
    "for i in range(1, 31):\n",
    "    result.append(i)\n",
    "    \n",
    "print(result[2::4])"
   ]
  },
  {
   "cell_type": "markdown",
   "metadata": {},
   "source": [
    "### 5. dict형 객체인 `obj`가 있다고 할 때, `obj['key']`와 `obj.get('key')`의 차이를 서술하시오. [5점]\n",
    "\n",
    "'obj['key']'의 경우 사전에 없는 key값을 출력하려 하면 KeyError가 발생하지만\n",
    "'obj.get('key')'의 경우 사전에 없는 key값을 출력하는 경우 기본적으로 None이 설정되므로 KeyError를 발생시키지 않는 차이가 있다."
   ]
  },
  {
   "cell_type": "markdown",
   "metadata": {},
   "source": [
    "### 6. 튜플 언패킹에 대해 서술하고, `pokemon_info` 객체를 순회할 때 튜플 언패킹을 사용하는 예제 코드를 작성하시오. [10점]\n",
    "\n",
    "- 패킹된 변수에서 여러개의 값을 꺼내오는 것을 뜻하며 예제는 아래와 같다.\n",
    "\n",
    "```\n",
    "pokemon_info = [\n",
    "    ('피카츄', '전기 타입'),\n",
    "    ('파이리', '불 타입'),\n",
    "    ('꼬부기', '물 타입'),\n",
    "    ('이상해씨', '풀 타입'),\n",
    "]\n",
    "\n",
    "for a, b in pokemon_info:\n",
    "    print(a , b)\n",
    "    \n",
    "피카츄 전기 타입\n",
    "파이리 불 타입\n",
    "꼬부기 물 타입\n",
    "이상해씨 풀 타입\n",
    "```"
   ]
  },
  {
   "cell_type": "code",
   "execution_count": 98,
   "metadata": {},
   "outputs": [
    {
     "name": "stdout",
     "output_type": "stream",
     "text": [
      "피카츄 전기 타입\n",
      "파이리 불 타입\n",
      "꼬부기 물 타입\n",
      "이상해씨 풀 타입\n"
     ]
    }
   ],
   "source": [
    "pokemon_info = [\n",
    "    ('피카츄', '전기 타입'),\n",
    "    ('파이리', '불 타입'),\n",
    "    ('꼬부기', '물 타입'),\n",
    "    ('이상해씨', '풀 타입'),\n",
    "]\n",
    "\n",
    "for a, b in pokemon_info:\n",
    "    print(a , b)"
   ]
  },
  {
   "cell_type": "markdown",
   "metadata": {},
   "source": [
    "### 7. 함수에서 위치인자와 키워드인자의 차이점에 대해 서술하시오. [5점]\n",
    "\n",
    "- 위치인자는 함수로 전달하는 매개변수를 순서대로 나열하는 것이고\n",
    "- 키워드인자는 인자 이름과 인자에 할당할 값을 특정하는 것이 차이점."
   ]
  },
  {
   "cell_type": "markdown",
   "metadata": {},
   "source": [
    "### 8. 클래스와 인스턴스의 다음 사항들에 대해 서술하시오.\n",
    "\n",
    "- 클래스와 인스턴스의 차이점 [2점]\n",
    "클래스란 무엇인가를 만들어 낼수 있는 일종의 틀이고 인스턴스는 그 틀에 의해 만들어진 결과물을 뜻한다.\n",
    "\n",
    "- 클래스의 생성자 함수 이름 [1점]\n",
    "def __init__(self):\n",
    "\n",
    "- 클래스의 생성자 함수가 호출되는 시점은? [2점]\n",
    "객체가 생성될 때 자동으로 호출된다.\n",
    "\n",
    "- 인스턴스 메서드의 `self`매개변수의 의미 [4점]\n",
    "메서드를 호출한 객체 자신이 전달되는 의미를 가진다.\n",
    "    "
   ]
  },
  {
   "cell_type": "markdown",
   "metadata": {},
   "source": [
    "### 9. `property`를 정의하는 방법에 대해 서술하시오. [5점]\n",
    "\n",
    "- `getter`를 만드는 방법에 대해 서술: 2점\n",
    "메서드 위에 @property를 작성하며 해당하는 인스턴스의 이름 앞에 언더스코어 2개를 붙인다.\n",
    "통상 1개만 붙이는데 외부에서 접근하지 말라는 표식을 할거라면 2개를 써줘야 함.\n",
    "\n",
    "코드 식.\n",
    "@property\n",
    "def name(self):\n",
    "    return self.__name\n",
    "    \n",
    "\n",
    "\n",
    "- `setter`를 만드는 방법에 대해 서술: 3점\n",
    "메서드 위에 @인스턴스명.setter를 작성하며 새 변수에 변경할 인스턴스를 할당한다.\n",
    "setter 프로퍼티를 명시하지 않을 경우 읽기전용이 되어 외부에서 조작할수 없게 된다.\n",
    "\n",
    "@name.setter\n",
    "def name(self, new_name):\n",
    "    self.__name = new_name\n",
    "    print('Set new name ({})'.format(self.__name))"
   ]
  },
  {
   "cell_type": "markdown",
   "metadata": {},
   "source": [
    "### 10. 아래와 같은 `User`클래스가 있다. 이 클래스를 상속받은 `Student`클래스를 정의하고, 초기화 메서드에서 `name`과 함께`age`라는 매개변수를 추가로 사용해 인스턴스의 `age`속성을 추가로 정의하도록 한다. [10점]\n",
    "\n",
    "- (기본구현) User클래스를 상속: 1\n",
    "- 초기화 메서드 재정의: +3\n",
    "- 초기화 메서드에서 `super`사용: +6\n",
    "\n",
    "```\n",
    "class User:\n",
    "    def __init__(self, name):\n",
    "        self.name = name\n",
    "   \n",
    "```"
   ]
  },
  {
   "cell_type": "code",
   "execution_count": 13,
   "metadata": {},
   "outputs": [],
   "source": [
    "class User:\n",
    "    def __init__(self, name):\n",
    "        self.name = name\n",
    "        \n",
    "        \n",
    "class Student(User):\n",
    "    def __init__(self, name, age):\n",
    "        super().__init__(name)\n",
    "        self.age = age"
   ]
  },
  {
   "cell_type": "markdown",
   "metadata": {},
   "source": [
    "### 11. `url`주소로부터 아래 결과를 출력한다. [10점]\n",
    "\n",
    "> 공지사항이 추가되면 결과는 달라질 수 있으므로, 실제 게시판의 목록이 출력되는지 확인\n",
    "> \n",
    "> top이라는 텍스트는 포함되어도 무관\n",
    "\n",
    "```\n",
    "url = 'http://www.leagueoflegends.co.kr/?m=news&cate=notice'\n",
    "```\n",
    "\n",
    "결과 출력\n",
    "\n",
    "```\n",
    "top[#2] 격전을 준비하세요! (수정)\n",
    "top격전 참여시 불건전 행위에 대한 주의사항 안내(수정)\n",
    "6월 6일(수) 서버 점검 안내\n",
    "PBE 인사이드 20화(8.12 패치 편) 방송 안내\n",
    "다시 돌아온 격전! 얼불져스 6/5(화) 방송 일정 안내\n",
    "1일 격전 테스트에 참여해 주세요\n",
    "대리 게임 등 적발 현황 262차 안내\n",
    "부정행위 프로그램 제재 현황 안내\n",
    "MadLife와 함께하는 입롤의 신 - 파이크편\n",
    "무작위 총력전 샤코 챔피언 비활성화 안내 (정상화)\n",
    "얼불져스 성적 예측 이벤트 당첨자 안내\n",
    "수수께끼 피규어(시리즈 2) 할인 판매!\n",
    "```"
   ]
  },
  {
   "cell_type": "code",
   "execution_count": 14,
   "metadata": {},
   "outputs": [
    {
     "name": "stdout",
     "output_type": "stream",
     "text": [
      "<div class=\"contents-table\"><!-- ContentsTable Start -->\n",
      "<table cellspacing=\"0\" class=\"request-list info-type02\">\n",
      "<caption>목록</caption>\n",
      "<colgroup>\n",
      "<col style=\"width:*%\"/>\n",
      "<col style=\"width:96px\"/>\n",
      "<col style=\"width:66px\"/>\n",
      "</colgroup>\n",
      "<thead>\n",
      "<tr>\n",
      "<th class=\"first\" scope=\"col\">제목</th>\n",
      "<th scope=\"col\">등록일</th>\n",
      "<th scope=\"col\">조회수</th>\n",
      "</tr>\n",
      "</thead>\n",
      "<tbody>\n",
      "<tr>\n",
      "<td class=\"tleft\"><a href=\"/?m=news&amp;cate=notice&amp;mod=view&amp;schwrd=&amp;p=1&amp;idx=258839\">인형 30% 할인 프로모션</a></td>\n",
      "<td>2018-06-13</td>\n",
      "<td>7,652</td>\n",
      "</tr>\n",
      "<tr>\n",
      "<td class=\"tleft\"><a href=\"/?m=news&amp;cate=notice&amp;mod=view&amp;schwrd=&amp;p=1&amp;idx=258815\">6월 13일(수) 서버 점검 및 업데이트 안내 (완료)</a></td>\n",
      "<td>2018-06-12</td>\n",
      "<td>23,188</td>\n",
      "</tr>\n",
      "<tr>\n",
      "<td class=\"tleft\"><a href=\"/?m=news&amp;cate=notice&amp;mod=view&amp;schwrd=&amp;p=1&amp;idx=258794\">대리 게임 등 적발 현황 263차 안내</a></td>\n",
      "<td>2018-06-08</td>\n",
      "<td>6,727</td>\n",
      "</tr>\n",
      "<tr>\n",
      "<td class=\"tleft\"><a href=\"/?m=news&amp;cate=notice&amp;mod=view&amp;schwrd=&amp;p=1&amp;idx=258788\">부정행위 프로그램 제재 현황 안내</a></td>\n",
      "<td>2018-06-08</td>\n",
      "<td>2,698</td>\n",
      "</tr>\n",
      "<tr>\n",
      "<td class=\"tleft\"><a href=\"/?m=news&amp;cate=notice&amp;mod=view&amp;schwrd=&amp;p=1&amp;idx=258785\">6월 2차 소환사 문화재지킴이 모집 안내</a></td>\n",
      "<td>2018-06-08</td>\n",
      "<td>3,111</td>\n",
      "</tr>\n",
      "<tr>\n",
      "<td class=\"tleft\"><a href=\"/?m=news&amp;cate=notice&amp;mod=view&amp;schwrd=&amp;p=1&amp;idx=258782\">일부 클라이언트 오류 현상에 대한 안내 (정상화)</a></td>\n",
      "<td>2018-06-06</td>\n",
      "<td>10,439</td>\n",
      "</tr>\n",
      "<tr>\n",
      "<td class=\"tleft\"><a href=\"/?m=news&amp;cate=notice&amp;mod=view&amp;schwrd=&amp;p=1&amp;idx=258776\">6월 6일(수) 서버 점검 안내 (완료)</a></td>\n",
      "<td>2018-06-05</td>\n",
      "<td>40,876</td>\n",
      "</tr>\n",
      "<tr>\n",
      "<td class=\"tleft\"><a href=\"/?m=news&amp;cate=notice&amp;mod=view&amp;schwrd=&amp;p=1&amp;idx=258761\">PBE 인사이드 20화(8.12 패치 편) 방송 안내</a></td>\n",
      "<td>2018-06-04</td>\n",
      "<td>9,814</td>\n",
      "</tr>\n",
      "<tr>\n",
      "<td class=\"tleft\"><a href=\"/?m=news&amp;cate=notice&amp;mod=view&amp;schwrd=&amp;p=1&amp;idx=258758\">다시 돌아온 격전! 얼불져스 6/5(화) 방송 일정 안내</a></td>\n",
      "<td>2018-06-03</td>\n",
      "<td>14,459</td>\n",
      "</tr>\n",
      "<tr>\n",
      "<td class=\"tleft\"><a href=\"/?m=news&amp;cate=notice&amp;mod=view&amp;schwrd=&amp;p=1&amp;idx=258755\">1일 격전 테스트에 참여해 주세요</a></td>\n",
      "<td>2018-06-03</td>\n",
      "<td>16,624</td>\n",
      "</tr>\n",
      "</tbody>\n",
      "</table>\n",
      "</div>\n"
     ]
    }
   ],
   "source": [
    "# 나의 답\n",
    "\n",
    "import requests\n",
    "from bs4 import BeautifulSoup\n",
    "\n",
    "url = 'http://www.leagueoflegends.co.kr/?m=news&cate=notice'\n",
    "response = requests.get(url)\n",
    "html = response.text\n",
    "soup = BeautifulSoup(html, 'lxml')\n",
    "lol_title = soup.select_one('div.contents-table')\n",
    "print(lol_title)"
   ]
  },
  {
   "cell_type": "code",
   "execution_count": 133,
   "metadata": {},
   "outputs": [],
   "source": [
    "# 정답\n",
    "import os\n",
    "import requests\n",
    "from bs4 import BeautifulSoup\n",
    "import lxml\n",
    "\n",
    "file_path = 'notice_list.html'\n",
    "url = 'http://www.leagueoflegends.co.kr/?m=news&cate=notice'\n",
    "\n",
    "if os.path.exists(file_path):\n",
    "    html = open(file_path, 'rt').read()\n",
    "    \n",
    "else:\n",
    "    response = requests.get(url)\n",
    "    req_text = response.text\n",
    "    html = open(file_path, 'wt').write(req_text)"
   ]
  },
  {
   "cell_type": "code",
   "execution_count": 134,
   "metadata": {},
   "outputs": [
    {
     "name": "stdout",
     "output_type": "stream",
     "text": [
      "인형 30% 할인 프로모션\n",
      "6월 13일(수) 서버 점검 및 업데이트 안내 (완료)\n",
      "대리 게임 등 적발 현황 263차 안내\n",
      "부정행위 프로그램 제재 현황 안내\n",
      "6월 2차 소환사 문화재지킴이 모집 안내\n",
      "일부 클라이언트 오류 현상에 대한 안내 (정상화)\n",
      "6월 6일(수) 서버 점검 안내 (완료)\n",
      "PBE 인사이드 20화(8.12 패치 편) 방송 안내\n",
      "다시 돌아온 격전! 얼불져스 6/5(화) 방송 일정 안내\n",
      "1일 격전 테스트에 참여해 주세요\n"
     ]
    }
   ],
   "source": [
    "soup = BeautifulSoup(html, 'lxml')\n",
    "notice = soup.select('td.tleft > a')\n",
    "for i in notice:\n",
    "    print(i.get_text())"
   ]
  },
  {
   "cell_type": "markdown",
   "metadata": {},
   "source": [
    "### 12. `url`주소에 있는 공지사항에 해당하는 `Notice`클래스를 만들고, 크롤링시 공지사항 하나마다 `Notice`클래스 인스턴스를 만들어 `notice_list`리스트에 추가한다. [10점]\n",
    "\n",
    "`notice_list`를 출력한 결과\n",
    "\n",
    "```\n",
    "for notice in notice_list:\n",
    "\tprint(notice.title)\n",
    "\tprint(notice.date)\n",
    "\tprint(notice.view)\n",
    "\tprint()\n",
    "```\n",
    "\n",
    "결과\n",
    "\n",
    "```\n",
    "top[#2] 격전을 준비하세요! (수정)\n",
    "2018-05-18\n",
    "17,698\n",
    "\n",
    "top격전 참여시 불건전 행위에 대한 주의사항 안내(수정)\n",
    "2018-04-26\n",
    "34,097\n",
    "\n",
    "일부 클라이언트 오류 현상에 대한 안내\n",
    "2018-06-06\n",
    "4,928\n",
    "\n",
    "6월 6일(수) 서버 점검 안내 (완료)\n",
    "2018-06-05\n",
    "38,061\n",
    "\n",
    "PBE 인사이드 20화(8.12 패치 편) 방송 안내\n",
    "2018-06-04\n",
    "7,819\n",
    "\n",
    "다시 돌아온 격전! 얼불져스 6/5(화) 방송 일정 안내\n",
    "2018-06-03\n",
    "13,906\n",
    "...\n",
    "...\n",
    "..."
   ]
  },
  {
   "cell_type": "code",
   "execution_count": 143,
   "metadata": {},
   "outputs": [],
   "source": [
    "# 답 작성 못함\n",
    "\n",
    "import requests\n",
    "from bs4 import BeautifulSoup\n",
    "import lxml"
   ]
  },
  {
   "cell_type": "code",
   "execution_count": 147,
   "metadata": {},
   "outputs": [
    {
     "name": "stdout",
     "output_type": "stream",
     "text": [
      "인형 30% 할인 프로모션\n",
      "2018-06-13\n",
      "7,901\n",
      "\n",
      "6월 13일(수) 서버 점검 및 업데이트 안내 (완료)\n",
      "2018-06-12\n",
      "23,454\n",
      "\n",
      "대리 게임 등 적발 현황 263차 안내\n",
      "2018-06-08\n",
      "6,755\n",
      "\n",
      "부정행위 프로그램 제재 현황 안내\n",
      "2018-06-08\n",
      "2,715\n",
      "\n",
      "6월 2차 소환사 문화재지킴이 모집 안내\n",
      "2018-06-08\n",
      "3,147\n",
      "\n",
      "일부 클라이언트 오류 현상에 대한 안내 (정상화)\n",
      "2018-06-06\n",
      "10,445\n",
      "\n",
      "6월 6일(수) 서버 점검 안내 (완료)\n",
      "2018-06-05\n",
      "40,881\n",
      "\n",
      "PBE 인사이드 20화(8.12 패치 편) 방송 안내\n",
      "2018-06-04\n",
      "9,820\n",
      "\n",
      "다시 돌아온 격전! 얼불져스 6/5(화) 방송 일정 안내\n",
      "2018-06-03\n",
      "14,464\n",
      "\n",
      "1일 격전 테스트에 참여해 주세요\n",
      "2018-06-03\n",
      "16,635\n",
      "\n"
     ]
    }
   ],
   "source": [
    "class Notice:\n",
    "    def __init__(self, title, date, view):\n",
    "        self.title = title\n",
    "        self.date = date\n",
    "        self.view = view\n",
    "        \n",
    "url = 'http://www.leagueoflegends.co.kr/?m=news&cate=notice'\n",
    "response = requests.get(url)\n",
    "html = response.text\n",
    "\n",
    "soup = BeautifulSoup(html, 'lxml')\n",
    "board = soup.select('table.request-list > tbody > tr')\n",
    "# print(board)\n",
    "\n",
    "notice_list = list()\n",
    "\n",
    "for article in board:\n",
    "    title = article.select_one('td.tleft > a').text\n",
    "    date = article.select_one('td:nth-of-type(2)').text\n",
    "    view = article.select_one('td:nth-of-type(3)').text\n",
    "    notice_list.append(Notice(title, date, view))\n",
    "    \n",
    "for notice in notice_list:\n",
    "    print(notice.title)\n",
    "    print(notice.date)\n",
    "    print(notice.view)\n",
    "    print()"
   ]
  },
  {
   "cell_type": "markdown",
   "metadata": {},
   "source": [
    "### 13. runserver가 localhost:8000에서 입력을 받는 상태로 동작 중일 때, 브라우저에서 `http://localhost:8000/abc/`URL을 입력하면 어떤 절차를 거쳐 사용자에게 다시 화면을 보여주는지 서술하시오. [10점]\n",
    "\n",
    "```\n",
    "브라우저에서 url을 요청하면 url모듈에서 pattern을 확인\n",
    "'abc/' 와 일치하는 'abc.urls'로 넘어가고\n",
    "abc.urls와 일치하면 view function으로 넘어가서 값을 서버로 보내고\n",
    "브라우저를 통해 다시 출력되어 사용자에게 전달된다.\n",
    "\n",
    "```"
   ]
  },
  {
   "cell_type": "code",
   "execution_count": null,
   "metadata": {},
   "outputs": [],
   "source": []
  },
  {
   "cell_type": "code",
   "execution_count": null,
   "metadata": {},
   "outputs": [],
   "source": []
  },
  {
   "cell_type": "code",
   "execution_count": null,
   "metadata": {},
   "outputs": [],
   "source": []
  },
  {
   "cell_type": "code",
   "execution_count": null,
   "metadata": {},
   "outputs": [],
   "source": []
  },
  {
   "cell_type": "code",
   "execution_count": null,
   "metadata": {},
   "outputs": [],
   "source": []
  },
  {
   "cell_type": "code",
   "execution_count": null,
   "metadata": {},
   "outputs": [],
   "source": []
  },
  {
   "cell_type": "code",
   "execution_count": null,
   "metadata": {},
   "outputs": [],
   "source": []
  },
  {
   "cell_type": "code",
   "execution_count": null,
   "metadata": {},
   "outputs": [],
   "source": []
  },
  {
   "cell_type": "code",
   "execution_count": null,
   "metadata": {},
   "outputs": [],
   "source": []
  },
  {
   "cell_type": "code",
   "execution_count": null,
   "metadata": {},
   "outputs": [],
   "source": []
  },
  {
   "cell_type": "code",
   "execution_count": null,
   "metadata": {},
   "outputs": [],
   "source": []
  },
  {
   "cell_type": "code",
   "execution_count": null,
   "metadata": {},
   "outputs": [],
   "source": []
  },
  {
   "cell_type": "code",
   "execution_count": null,
   "metadata": {},
   "outputs": [],
   "source": []
  },
  {
   "cell_type": "code",
   "execution_count": null,
   "metadata": {},
   "outputs": [],
   "source": []
  },
  {
   "cell_type": "code",
   "execution_count": null,
   "metadata": {},
   "outputs": [],
   "source": []
  },
  {
   "cell_type": "code",
   "execution_count": null,
   "metadata": {},
   "outputs": [],
   "source": []
  },
  {
   "cell_type": "code",
   "execution_count": null,
   "metadata": {},
   "outputs": [],
   "source": []
  },
  {
   "cell_type": "code",
   "execution_count": null,
   "metadata": {},
   "outputs": [],
   "source": []
  },
  {
   "cell_type": "code",
   "execution_count": null,
   "metadata": {},
   "outputs": [],
   "source": []
  },
  {
   "cell_type": "code",
   "execution_count": null,
   "metadata": {},
   "outputs": [],
   "source": []
  },
  {
   "cell_type": "code",
   "execution_count": null,
   "metadata": {},
   "outputs": [],
   "source": []
  },
  {
   "cell_type": "code",
   "execution_count": null,
   "metadata": {},
   "outputs": [],
   "source": []
  },
  {
   "cell_type": "code",
   "execution_count": null,
   "metadata": {},
   "outputs": [],
   "source": []
  },
  {
   "cell_type": "code",
   "execution_count": null,
   "metadata": {},
   "outputs": [],
   "source": []
  },
  {
   "cell_type": "code",
   "execution_count": null,
   "metadata": {},
   "outputs": [],
   "source": []
  },
  {
   "cell_type": "code",
   "execution_count": null,
   "metadata": {},
   "outputs": [],
   "source": []
  },
  {
   "cell_type": "code",
   "execution_count": null,
   "metadata": {},
   "outputs": [],
   "source": []
  },
  {
   "cell_type": "code",
   "execution_count": null,
   "metadata": {},
   "outputs": [],
   "source": []
  },
  {
   "cell_type": "code",
   "execution_count": null,
   "metadata": {},
   "outputs": [],
   "source": []
  },
  {
   "cell_type": "code",
   "execution_count": null,
   "metadata": {},
   "outputs": [],
   "source": []
  },
  {
   "cell_type": "code",
   "execution_count": null,
   "metadata": {},
   "outputs": [],
   "source": []
  },
  {
   "cell_type": "code",
   "execution_count": null,
   "metadata": {},
   "outputs": [],
   "source": []
  },
  {
   "cell_type": "code",
   "execution_count": null,
   "metadata": {},
   "outputs": [],
   "source": []
  },
  {
   "cell_type": "code",
   "execution_count": null,
   "metadata": {},
   "outputs": [],
   "source": []
  },
  {
   "cell_type": "code",
   "execution_count": null,
   "metadata": {},
   "outputs": [],
   "source": []
  },
  {
   "cell_type": "code",
   "execution_count": null,
   "metadata": {},
   "outputs": [],
   "source": []
  },
  {
   "cell_type": "code",
   "execution_count": null,
   "metadata": {},
   "outputs": [],
   "source": []
  },
  {
   "cell_type": "code",
   "execution_count": null,
   "metadata": {},
   "outputs": [],
   "source": []
  },
  {
   "cell_type": "code",
   "execution_count": null,
   "metadata": {},
   "outputs": [],
   "source": []
  },
  {
   "cell_type": "code",
   "execution_count": null,
   "metadata": {},
   "outputs": [],
   "source": []
  },
  {
   "cell_type": "code",
   "execution_count": null,
   "metadata": {},
   "outputs": [],
   "source": []
  },
  {
   "cell_type": "code",
   "execution_count": null,
   "metadata": {},
   "outputs": [],
   "source": []
  },
  {
   "cell_type": "code",
   "execution_count": null,
   "metadata": {},
   "outputs": [],
   "source": []
  },
  {
   "cell_type": "code",
   "execution_count": null,
   "metadata": {},
   "outputs": [],
   "source": []
  },
  {
   "cell_type": "code",
   "execution_count": null,
   "metadata": {},
   "outputs": [],
   "source": []
  },
  {
   "cell_type": "code",
   "execution_count": null,
   "metadata": {},
   "outputs": [],
   "source": []
  },
  {
   "cell_type": "code",
   "execution_count": null,
   "metadata": {},
   "outputs": [],
   "source": []
  },
  {
   "cell_type": "code",
   "execution_count": null,
   "metadata": {},
   "outputs": [],
   "source": []
  },
  {
   "cell_type": "code",
   "execution_count": null,
   "metadata": {},
   "outputs": [],
   "source": []
  },
  {
   "cell_type": "code",
   "execution_count": null,
   "metadata": {},
   "outputs": [],
   "source": []
  },
  {
   "cell_type": "code",
   "execution_count": null,
   "metadata": {},
   "outputs": [],
   "source": []
  },
  {
   "cell_type": "code",
   "execution_count": null,
   "metadata": {},
   "outputs": [],
   "source": []
  },
  {
   "cell_type": "code",
   "execution_count": null,
   "metadata": {},
   "outputs": [],
   "source": []
  },
  {
   "cell_type": "code",
   "execution_count": null,
   "metadata": {},
   "outputs": [],
   "source": []
  },
  {
   "cell_type": "code",
   "execution_count": null,
   "metadata": {},
   "outputs": [],
   "source": []
  },
  {
   "cell_type": "code",
   "execution_count": null,
   "metadata": {},
   "outputs": [],
   "source": []
  },
  {
   "cell_type": "code",
   "execution_count": null,
   "metadata": {},
   "outputs": [],
   "source": []
  },
  {
   "cell_type": "code",
   "execution_count": null,
   "metadata": {},
   "outputs": [],
   "source": []
  },
  {
   "cell_type": "code",
   "execution_count": null,
   "metadata": {},
   "outputs": [],
   "source": []
  },
  {
   "cell_type": "code",
   "execution_count": null,
   "metadata": {},
   "outputs": [],
   "source": []
  },
  {
   "cell_type": "code",
   "execution_count": null,
   "metadata": {},
   "outputs": [],
   "source": []
  },
  {
   "cell_type": "code",
   "execution_count": null,
   "metadata": {},
   "outputs": [],
   "source": []
  },
  {
   "cell_type": "code",
   "execution_count": null,
   "metadata": {},
   "outputs": [],
   "source": []
  },
  {
   "cell_type": "code",
   "execution_count": null,
   "metadata": {},
   "outputs": [],
   "source": []
  },
  {
   "cell_type": "code",
   "execution_count": null,
   "metadata": {},
   "outputs": [],
   "source": []
  }
 ],
 "metadata": {
  "kernelspec": {
   "display_name": "Python 3",
   "language": "python",
   "name": "python3"
  },
  "language_info": {
   "codemirror_mode": {
    "name": "ipython",
    "version": 3
   },
   "file_extension": ".py",
   "mimetype": "text/x-python",
   "name": "python",
   "nbconvert_exporter": "python",
   "pygments_lexer": "ipython3",
   "version": "3.6.5"
  }
 },
 "nbformat": 4,
 "nbformat_minor": 2
}
